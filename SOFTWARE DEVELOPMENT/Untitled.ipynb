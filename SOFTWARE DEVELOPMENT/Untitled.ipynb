{
 "cells": [
  {
   "cell_type": "code",
   "execution_count": 28,
   "id": "8871271f-d749-445b-9953-6bc2846c29da",
   "metadata": {},
   "outputs": [],
   "source": [
    "import tkinter as tk\n",
    "from tkinter import *\n",
    "\n",
    "# Create the main window\n",
    "root = tk.Tk()\n",
    "root.title(\"Translator (ORF Tool)\")\n",
    "\n",
    "# --- Input Area ---\n",
    "input_frame = tk.LabelFrame(root, text=\"Enter DNA or RNA sequence\")\n",
    "input_frame.pack(padx=10, pady=10, fill=\"x\")\n",
    "\n",
    "sequence_entry = tk.Text(input_frame, height=5)\n",
    "sequence_entry.pack(padx=5, pady=5, fill=\"x\")\n",
    "\n",
    "browse_button = tk.Button(input_frame, text=\"Browse...\", command=browse_file)\n",
    "browse_button.pack(side=\"right\", padx=5, pady=5)\n",
    "\n",
    "# --- Direction Options ---\n",
    "direction_frame = tk.Frame(root)\n",
    "direction_frame.pack(padx=10, pady=5, fill=\"x\")\n",
    "\n",
    "forward_var = tk.BooleanVar()\n",
    "forward_check = tk.Checkbutton(direction_frame, text=\"Forward\", variable=forward_var)\n",
    "forward_check.pack(side=\"left\")\n",
    "\n",
    "reverse_var = tk.BooleanVar()\n",
    "reverse_check = tk.Checkbutton(direction_frame, text=\"Reverse\", variable=reverse_var)\n",
    "reverse_check.pack(side=\"left\", padx=10)\n",
    "\n",
    "# --- Translate Button ---\n",
    "translate_button = tk.Button(root, text=\"Translate\", command=translate_sequence)\n",
    "translate_button.pack(pady=10)\n",
    "\n",
    "# --- Output Area ---\n",
    "output_frame = tk.LabelFrame(root, text=\"Output\")\n",
    "output_frame.pack(padx=10, pady=10, fill=\"both\", expand=True)\n",
    "\n",
    "output_text = tk.Text(output_frame, height=10, width=50)\n",
    "output_text.pack(padx=5, pady=5, fill=\"both\", expand=True)\n",
    "\n",
    "# --- Save Output Button ---\n",
    "save_button = tk.Button(root, text=\"Save Output\", command=save_output)\n",
    "save_button.pack(pady=10)\n",
    "\n",
    "# Start the Tkinter event loop\n",
    "root.mainloop()"
   ]
  },
  {
   "cell_type": "code",
   "execution_count": null,
   "id": "0e6752f8-1983-403b-b781-de12ef68a41a",
   "metadata": {},
   "outputs": [],
   "source": []
  }
 ],
 "metadata": {
  "kernelspec": {
   "display_name": "Python 3 (ipykernel)",
   "language": "python",
   "name": "python3"
  },
  "language_info": {
   "codemirror_mode": {
    "name": "ipython",
    "version": 3
   },
   "file_extension": ".py",
   "mimetype": "text/x-python",
   "name": "python",
   "nbconvert_exporter": "python",
   "pygments_lexer": "ipython3",
   "version": "3.12.4"
  }
 },
 "nbformat": 4,
 "nbformat_minor": 5
}
